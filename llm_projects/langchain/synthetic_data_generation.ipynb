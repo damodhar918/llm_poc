{
  "cells": [
    {
      "cell_type": "markdown",
      "metadata": {
        "colab_type": "text",
        "id": "view-in-github"
      },
      "source": [
        "<a href=\"https://colab.research.google.com/github/sudarshan-koirala/youtube-stuffs/blob/main/langchain/synthetic_data_generation.ipynb\" target=\"_parent\"><img src=\"https://colab.research.google.com/assets/colab-badge.svg\" alt=\"Open In Colab\"/></a>"
      ]
    },
    {
      "cell_type": "raw",
      "id": "1302a608-4b4d-46bf-bd0c-b4f13eff2e5e",
      "metadata": {
        "id": "1302a608-4b4d-46bf-bd0c-b4f13eff2e5e"
      },
      "source": [
        "# Synthetic data generation [Main LangChain Documentation](https://python.langchain.com/docs/use_cases/data_generation)\n",
        "\n",
        "## [Youtube video covering this notebook](https://youtu.be/hDTLt8UbWYg)"
      ]
    },
    {
      "cell_type": "markdown",
      "id": "0AtyLRnxSD2g",
      "metadata": {
        "id": "0AtyLRnxSD2g"
      },
      "source": [
        "### How Is it done ??\n",
        "### Before GenAI emerged (Well, this is used still in many companies but **GenAI is what everyone is talking about these days** )\n",
        "Some of the modelling techniques used:\n",
        "- Classic statistical methods\n",
        "- Deep Learning models (GAN , VAE behind the scene)\n",
        "- Mix of classic statistical models and Deep Learning.\n",
        "\n",
        "Once synthetic data is generated, we need to evaluate it to make sure it is OK to use in downstream tasks. There are many libraries, websites offering these kind of solutions. But here, we focus in GenAI part."
      ]
    },
    {
      "cell_type": "markdown",
      "id": "aa3571cc",
      "metadata": {
        "id": "aa3571cc"
      },
      "source": [
        "## Use case\n",
        "\n",
        "Synthetic data refers to artificially generated data that imitates the characteristics of real data without containing any information from actual individuals or entities. It is typically created through mathematical models, algorithms, or other data generation techniques. Synthetic data can be used for a variety of purposes, including testing, research, and training machine learning models, while preserving privacy and security.\n",
        "\n",
        "Benefits of Synthetic Data:\n",
        "\n",
        "1. **Privacy and Security**: No real personal data at risk of breaches.\n",
        "2. **Data Augmentation**: Expands datasets for machine learning.\n",
        "3. **Flexibility**: Create specific or rare scenarios.\n",
        "4. **Cost-effective**: Often cheaper than real-world data collection.\n",
        "5. **Regulatory Compliance**: Helps navigate strict data protection laws.\n",
        "6. **Model Robustness**: Can lead to better generalizing AI models.\n",
        "7. **Rapid Prototyping**: Enables quick testing without real data.\n",
        "8. **Controlled Experimentation**: Simulate specific conditions.\n",
        "9. **Access to Data**: Alternative when real data isn't available.\n",
        "\n",
        "**Note: Despite the benefits, synthetic data should be used carefully, as it may not always capture real-world complexities.**"
      ]
    },
    {
      "cell_type": "markdown",
      "id": "EQ1qYxSgbDMt",
      "metadata": {
        "id": "EQ1qYxSgbDMt"
      },
      "source": [
        "## Quickstart\n",
        "\n",
        "In this notebook, we'll dive deep into generating synthetic medical billing records using the langchain library. This tool is particularly useful when you want to develop or test algorithms but don't want to use real patient data due to privacy concerns or data availability issues."
      ]
    },
    {
      "cell_type": "markdown",
      "id": "bca57012",
      "metadata": {
        "id": "bca57012"
      },
      "source": [
        "## Setup\n",
        "- First, you'll need to have the langchain library installed, along with its dependencies. Since we're using the OpenAI generator chain, we'll install that as well. Since this is an experimental lib, we'll need to include `langchain_experimental` in our installs.\n",
        "- [Pydantic](https://docs.pydantic.dev/latest/): Data validation library for Python"
      ]
    },
    {
      "cell_type": "code",
      "execution_count": 1,
      "id": "a0377478",
      "metadata": {
        "id": "a0377478"
      },
      "outputs": [],
      "source": [
        "%%capture\n",
        "# !pip install -U langchain langchain_experimental openai"
      ]
    },
    {
      "cell_type": "code",
      "execution_count": 2,
      "id": "7bDU3j-Zb0Jf",
      "metadata": {
        "id": "7bDU3j-Zb0Jf"
      },
      "outputs": [],
      "source": [
        "# set environment variables\n",
        "# https://platform.openai.com/account/api-keys\n",
        "# import os\n",
        "# os.environ[\"OPENAI_API_KEY\"] = \"OPENAI_API_KEY\""
      ]
    },
    {
      "cell_type": "code",
      "execution_count": 3,
      "id": "e3kkn3SlbzBF",
      "metadata": {
        "id": "e3kkn3SlbzBF"
      },
      "outputs": [],
      "source": [
        "from langchain.prompts import FewShotPromptTemplate, PromptTemplate\n",
        "from langchain.chat_models import ChatOpenAI\n",
        "from langchain.pydantic_v1 import BaseModel\n",
        "from langchain_experimental.tabular_synthetic_data.base import SyntheticDataGenerator\n",
        "from langchain_experimental.tabular_synthetic_data.openai import create_openai_data_generator, OPENAI_TEMPLATE\n",
        "from langchain_experimental.tabular_synthetic_data.prompts import SYNTHETIC_FEW_SHOT_SUFFIX, SYNTHETIC_FEW_SHOT_PREFIX"
      ]
    },
    {
      "cell_type": "markdown",
      "id": "a5a0917b",
      "metadata": {
        "id": "a5a0917b"
      },
      "source": [
        "## 1. Define Your Data Model\n",
        "- Every dataset has a structure or a \"schema\".\n",
        "- The MedicalBilling class below serves as our schema for the synthetic data.\n",
        "- By defining this, we're informing our synthetic data generator about the shape and nature of data we expect."
      ]
    },
    {
      "cell_type": "code",
      "execution_count": 4,
      "id": "291bad6e",
      "metadata": {
        "id": "291bad6e"
      },
      "outputs": [],
      "source": [
        "class MedicalBilling(BaseModel):\n",
        "    patient_id: int(unique=True)\n",
        "    patient_name: str\n",
        "    diagnosis_code: str\n",
        "    procedure_code: str\n",
        "    total_charge: float\n",
        "    insurance_claim_amount: float\n"
      ]
    },
    {
      "cell_type": "markdown",
      "id": "2059ca63",
      "metadata": {
        "id": "2059ca63"
      },
      "source": [
        "## 2. Sample Data\n",
        "To guide the synthetic data generator, it's useful to provide it with a few real-world-like examples. These examples serve as a \"seed\" - they're representative of the kind of data you want, and the generator will use them to create more data that looks similar.\n",
        "\n",
        "Here are some fictional medical billing records:"
      ]
    },
    {
      "cell_type": "code",
      "execution_count": 5,
      "id": "b989b792",
      "metadata": {
        "id": "b989b792"
      },
      "outputs": [],
      "source": [
        "examples = [\n",
        "    {\"example\": \"\"\"Patient ID: 123456, Patient Name: John Doe, Diagnosis Code:\n",
        "        J20.9, Procedure Code: 99203, Total Charge: $500, Insurance Claim Amount: $350\"\"\"},\n",
        "    {\"example\": \"\"\"Patient ID: 789012, Patient Name: Johnson Smith, Diagnosis\n",
        "        Code: M54.5, Procedure Code: 99213, Total Charge: $150, Insurance Claim Amount: $120\"\"\"},\n",
        "    {\"example\": \"\"\"Patient ID: 345678, Patient Name: Emily Stone, Diagnosis Code:\n",
        "        E11.9, Procedure Code: 99214, Total Charge: $300, Insurance Claim Amount: $250\"\"\"},\n",
        "]"
      ]
    },
    {
      "cell_type": "markdown",
      "id": "57e28809",
      "metadata": {
        "id": "57e28809"
      },
      "source": [
        "## 3. Craft a Prompt Template\n",
        "The generator doesn't magically know how to create our data; we need to guide it. We do this by creating a prompt template. This template helps instruct the underlying language model on how to produce synthetic data in the desired format."
      ]
    },
    {
      "cell_type": "code",
      "execution_count": 6,
      "id": "ea6e042e",
      "metadata": {
        "id": "ea6e042e"
      },
      "outputs": [],
      "source": [
        "OPENAI_TEMPLATE = PromptTemplate(input_variables=[\"example\"], template=\"{example}\")\n",
        "\n",
        "prompt_template = FewShotPromptTemplate(\n",
        "    prefix=SYNTHETIC_FEW_SHOT_PREFIX,\n",
        "    examples=examples,\n",
        "    suffix=SYNTHETIC_FEW_SHOT_SUFFIX,\n",
        "    input_variables=[\"subject\", \"extra\"],\n",
        "    example_prompt=OPENAI_TEMPLATE,\n",
        ")"
      ]
    },
    {
      "cell_type": "markdown",
      "id": "fa6da3cb",
      "metadata": {
        "id": "fa6da3cb"
      },
      "source": [
        "The `FewShotPromptTemplate` includes:\n",
        "\n",
        "- `prefix` and `suffix`: These likely contain guiding context or instructions.\n",
        "- `examples`: The sample data we defined earlier.\n",
        "- `input_variables`: These variables (\"subject\", \"extra\") are placeholders you can dynamically fill later. For instance, \"subject\" might be filled with \"medical_billing\" to guide the model further.\n",
        "- `example_prompt`: This prompt template is the format we want each example row to take in our prompt."
      ]
    },
    {
      "cell_type": "markdown",
      "id": "pI5oGS-fchEi",
      "metadata": {
        "id": "pI5oGS-fchEi"
      },
      "source": [
        "## 4. Creating the Data Generator\n",
        "With the schema and the prompt ready, the next step is to create the data generator. This object knows how to communicate with the underlying language model to get synthetic data."
      ]
    },
    {
      "cell_type": "code",
      "execution_count": 7,
      "id": "1b9ba911",
      "metadata": {
        "id": "1b9ba911"
      },
      "outputs": [
        {
          "name": "stderr",
          "output_type": "stream",
          "text": [
            "c:\\Users\\jdamodhar\\AppData\\Local\\Programs\\Python\\Python311\\Lib\\site-packages\\langchain_core\\_api\\deprecation.py:117: LangChainDeprecationWarning: The class `langchain_community.chat_models.openai.ChatOpenAI` was deprecated in langchain-community 0.0.10 and will be removed in 0.2.0. An updated version of the class exists in the langchain-openai package and should be used instead. To use it run `pip install -U langchain-openai` and import as `from langchain_openai import ChatOpenAI`.\n",
            "  warn_deprecated(\n"
          ]
        }
      ],
      "source": [
        "synthetic_data_generator = create_openai_data_generator(\n",
        "    output_schema=MedicalBilling,\n",
        "    llm=ChatOpenAI(temperature=1),\n",
        "    prompt=prompt_template,\n",
        ")"
      ]
    },
    {
      "cell_type": "markdown",
      "id": "a4198bd6",
      "metadata": {
        "id": "a4198bd6"
      },
      "source": [
        "## 5. Generate Synthetic Data\n",
        "Finally, let's get our synthetic data!"
      ]
    },
    {
      "cell_type": "code",
      "execution_count": 8,
      "id": "a424c890",
      "metadata": {
        "id": "a424c890"
      },
      "outputs": [],
      "source": [
        "synthetic_results = synthetic_data_generator.generate(\n",
        "    subject=\"medical_billing\",\n",
        "    extra=\"the name must be chosen at random. Make it something you wouldn't normally choose.\",\n",
        "    runs=100,\n",
        ")"
      ]
    },
    {
      "cell_type": "markdown",
      "id": "fa4402e9",
      "metadata": {
        "id": "fa4402e9"
      },
      "source": [
        "This command asks the generator to produce 10 synthetic medical billing records. The results are stored in `synthetic_results`. The output will be a list of the MedicalBilling pydantic models."
      ]
    },
    {
      "cell_type": "code",
      "execution_count": 9,
      "id": "8lIQ7XaJeIsv",
      "metadata": {
        "colab": {
          "base_uri": "https://localhost:8080/"
        },
        "id": "8lIQ7XaJeIsv",
        "outputId": "0ea3c614-8b5b-44c0-ea93-3085b700ec60"
      },
      "outputs": [
        {
          "data": {
            "text/plain": [
              "list"
            ]
          },
          "execution_count": 9,
          "metadata": {},
          "output_type": "execute_result"
        }
      ],
      "source": [
        "type(synthetic_results)"
      ]
    },
    {
      "cell_type": "markdown",
      "id": "NV99vyuGc_us",
      "metadata": {
        "id": "NV99vyuGc_us"
      },
      "source": [
        "## 6. Visualize the Generated Synthetic Data"
      ]
    },
    {
      "cell_type": "code",
      "execution_count": 10,
      "id": "0b03de4d",
      "metadata": {
        "colab": {
          "base_uri": "https://localhost:8080/"
        },
        "id": "0b03de4d",
        "outputId": "e65cd16a-d6ad-474b-f1ae-e58717f04891"
      },
      "outputs": [
        {
          "data": {
            "text/plain": [
              "100"
            ]
          },
          "execution_count": 10,
          "metadata": {},
          "output_type": "execute_result"
        }
      ],
      "source": [
        "len(synthetic_results)"
      ]
    },
    {
      "cell_type": "code",
      "execution_count": 11,
      "id": "U4xA8dAAc-DY",
      "metadata": {
        "colab": {
          "base_uri": "https://localhost:8080/"
        },
        "id": "U4xA8dAAc-DY",
        "outputId": "1271d4b1-1eb6-476a-8377-ae1182987dd6"
      },
      "outputs": [
        {
          "data": {
            "text/plain": [
              "[MedicalBilling(patient_id=123456, patient_name='Alice Johnson', diagnosis_code='G40.909', procedure_code='99203', total_charge=600.0, insurance_claim_amount=400.0),\n",
              " MedicalBilling(patient_id=456789, patient_name='Samantha Rodriguez', diagnosis_code='I10', procedure_code='99212', total_charge=200.0, insurance_claim_amount=150.0),\n",
              " MedicalBilling(patient_id=987654, patient_name='Xavier Thompson', diagnosis_code='M25.511', procedure_code='99213', total_charge=400.0, insurance_claim_amount=300.0),\n",
              " MedicalBilling(patient_id=999999, patient_name=\"Evangeline O'Malley\", diagnosis_code='S72.502A', procedure_code='99204', total_charge=800.0, insurance_claim_amount=600.0),\n",
              " MedicalBilling(patient_id=123456, patient_name='Finnegan McLeod', diagnosis_code='E78.5', procedure_code='99203', total_charge=300.0, insurance_claim_amount=250.0),\n",
              " MedicalBilling(patient_id=456789, patient_name='Seraphina Rodriguez', diagnosis_code='G47.33', procedure_code='99214', total_charge=600.0, insurance_claim_amount=450.0),\n",
              " MedicalBilling(patient_id=777777, patient_name='Octavius Smythe', diagnosis_code='I10', procedure_code='99213', total_charge=500.0, insurance_claim_amount=400.0),\n",
              " MedicalBilling(patient_id=987654, patient_name=\"Esmeralda O'Sullivan\", diagnosis_code='M83.9', procedure_code='99204', total_charge=400.0, insurance_claim_amount=300.0),\n",
              " MedicalBilling(patient_id=123456, patient_name='Django Montoya', diagnosis_code='F32.9', procedure_code='99212', total_charge=350.0, insurance_claim_amount=275.0),\n",
              " MedicalBilling(patient_id=123456, patient_name='Delilah Granger', diagnosis_code='E11.9', procedure_code='99214', total_charge=600.0, insurance_claim_amount=450.0),\n",
              " MedicalBilling(patient_id=654321, patient_name='Maximus Whittaker', diagnosis_code='C56.9', procedure_code='99215', total_charge=500.0, insurance_claim_amount=375.0),\n",
              " MedicalBilling(patient_id=654321, patient_name='Aurelia Thistlewood', diagnosis_code='I20.0', procedure_code='99213', total_charge=400.0, insurance_claim_amount=300.0),\n",
              " MedicalBilling(patient_id=987654, patient_name='Octavius Blackwood', diagnosis_code='G47.9', procedure_code='99212', total_charge=700.0, insurance_claim_amount=525.0),\n",
              " MedicalBilling(patient_id=123456, patient_name='Delilah Thornbush', diagnosis_code='M76.12', procedure_code='99214', total_charge=600.0, insurance_claim_amount=450.0),\n",
              " MedicalBilling(patient_id=777777, patient_name='Bartholomew Pumpernickel', diagnosis_code='F32.9', procedure_code='99215', total_charge=800.0, insurance_claim_amount=600.0),\n",
              " MedicalBilling(patient_id=246810, patient_name='Seraphina Rutherford', diagnosis_code='I25.10', procedure_code='99213', total_charge=650.0, insurance_claim_amount=500.0),\n",
              " MedicalBilling(patient_id=987654, patient_name='Barnaby Thunderhawk', diagnosis_code='G47.33', procedure_code='99212', total_charge=700.0, insurance_claim_amount=550.0),\n",
              " MedicalBilling(patient_id=123456, patient_name='Zephyr Thunderfoot', diagnosis_code='M10.9', procedure_code='99214', total_charge=750.0, insurance_claim_amount=575.0),\n",
              " MedicalBilling(patient_id=135792, patient_name='Aurelia Thunderblade', diagnosis_code='F32.9', procedure_code='99215', total_charge=800.0, insurance_claim_amount=600.0),\n",
              " MedicalBilling(patient_id=246810, patient_name='Thaddeus Rockbreaker', diagnosis_code='R05', procedure_code='99213', total_charge=725.0, insurance_claim_amount=500.0),\n",
              " MedicalBilling(patient_id=987654, patient_name='Serenity Moonshadow', diagnosis_code='I50.9', procedure_code='99212', total_charge=700.0, insurance_claim_amount=525.0),\n",
              " MedicalBilling(patient_id=123456, patient_name='Oswald Glimmerstone', diagnosis_code='G47.9', procedure_code='99214', total_charge=850.0, insurance_claim_amount=625.0),\n",
              " MedicalBilling(patient_id=135792, patient_name='Barnabas Thunderfist', diagnosis_code='J44.9', procedure_code='99215', total_charge=900.0, insurance_claim_amount=700.0),\n",
              " MedicalBilling(patient_id=246810, patient_name='Zephyr Thunderburst', diagnosis_code='F32.9', procedure_code='99213', total_charge=750.0, insurance_claim_amount=575.0),\n",
              " MedicalBilling(patient_id=987654, patient_name='Seraphina Moonshadow', diagnosis_code='I10', procedure_code='99212', total_charge=700.0, insurance_claim_amount=500.0),\n",
              " MedicalBilling(patient_id=246810, patient_name='Aurelia Nightwhisper', diagnosis_code='G47.00', procedure_code='99214', total_charge=850.0, insurance_claim_amount=625.0),\n",
              " MedicalBilling(patient_id=13579, patient_name='Ragnarok Shadowblade', diagnosis_code='E11.9', procedure_code='99215', total_charge=900.0, insurance_claim_amount=700.0),\n",
              " MedicalBilling(patient_id=987654, patient_name='Midnight Thunderstorm', diagnosis_code='H20.9', procedure_code='99213', total_charge=750.0, insurance_claim_amount=550.0),\n",
              " MedicalBilling(patient_id=1357924, patient_name='Galadriel Stormrider', diagnosis_code='T12.8', procedure_code='99212', total_charge=700.0, insurance_claim_amount=500.0),\n",
              " MedicalBilling(patient_id=24680, patient_name='Zephyr Ironhide', diagnosis_code='K92.2', procedure_code='99214', total_charge=800.0, insurance_claim_amount=600.0),\n",
              " MedicalBilling(patient_id=123456, patient_name='Whispering Shadow', diagnosis_code='E11.9', procedure_code='99215', total_charge=850.0, insurance_claim_amount=650.0),\n",
              " MedicalBilling(patient_id=9876543, patient_name='Lysander Nightlock', diagnosis_code='M23.5', procedure_code='99213', total_charge=750.0, insurance_claim_amount=550.0),\n",
              " MedicalBilling(patient_id=13579, patient_name='Ragnar Thunderbeard', diagnosis_code='I50.9', procedure_code='99212', total_charge=700.0, insurance_claim_amount=500.0),\n",
              " MedicalBilling(patient_id=246810, patient_name='Serenity Frostfang', diagnosis_code='S72.0', procedure_code='99214', total_charge=800.0, insurance_claim_amount=600.0),\n",
              " MedicalBilling(patient_id=246810, patient_name='Thaddeus Wraithspire', diagnosis_code='M06.9', procedure_code='99215', total_charge=850.0, insurance_claim_amount=650.0),\n",
              " MedicalBilling(patient_id=123456, patient_name='Hermione Moonshadow', diagnosis_code='Z23.4', procedure_code='99213', total_charge=750.0, insurance_claim_amount=550.0),\n",
              " MedicalBilling(patient_id=135792, patient_name='Aurelius Thunderstrike', diagnosis_code='K50.1', procedure_code='99212', total_charge=700.0, insurance_claim_amount=500.0),\n",
              " MedicalBilling(patient_id=987654, patient_name='Seraphina Nightshade', diagnosis_code='H33.4', procedure_code='99214', total_charge=800.0, insurance_claim_amount=600.0),\n",
              " MedicalBilling(patient_id=246810, patient_name='Xander Stoneheart', diagnosis_code='N42.3', procedure_code='99215', total_charge=850.0, insurance_claim_amount=650.0),\n",
              " MedicalBilling(patient_id=98765, patient_name='Zephyr Shadowstalker', diagnosis_code='E23.2', procedure_code='99213', total_charge=750.0, insurance_claim_amount=550.0),\n",
              " MedicalBilling(patient_id=123456, patient_name='Octavia Thunderhawk', diagnosis_code='G47.9', procedure_code='99212', total_charge=700.0, insurance_claim_amount=500.0),\n",
              " MedicalBilling(patient_id=135792, patient_name='Galadriel Silvermoon', diagnosis_code='I50.9', procedure_code='99214', total_charge=800.0, insurance_claim_amount=600.0),\n",
              " MedicalBilling(patient_id=246810, patient_name='Thorondor Firestone', diagnosis_code='J01.0', procedure_code='99215', total_charge=900.0, insurance_claim_amount=700.0),\n",
              " MedicalBilling(patient_id=987654, patient_name='Aurelia Nightshade', diagnosis_code='F32.9', procedure_code='99211', total_charge=600.0, insurance_claim_amount=400.0),\n",
              " MedicalBilling(patient_id=246801, patient_name='Eldritch Shadowbane', diagnosis_code='A04.9', procedure_code='99213', total_charge=700.0, insurance_claim_amount=500.0),\n",
              " MedicalBilling(patient_id=13579, patient_name='Rhiannon Stormcaller', diagnosis_code='T78.4', procedure_code='99214', total_charge=800.0, insurance_claim_amount=600.0),\n",
              " MedicalBilling(patient_id=123456, patient_name='Mortimer Bloodmoon', diagnosis_code='G54.1', procedure_code='99215', total_charge=900.0, insurance_claim_amount=700.0),\n",
              " MedicalBilling(patient_id=987654, patient_name='Zephyr Nightshade', diagnosis_code='D73.9', procedure_code='99212', total_charge=600.0, insurance_claim_amount=400.0),\n",
              " MedicalBilling(patient_id=24680, patient_name='Peregrine Thunderhoof', diagnosis_code='R67.9', procedure_code='99213', total_charge=700.0, insurance_claim_amount=500.0),\n",
              " MedicalBilling(patient_id=13579, patient_name='Balthazar Grimsmoke', diagnosis_code='J03.9', procedure_code='99214', total_charge=800.0, insurance_claim_amount=600.0),\n",
              " MedicalBilling(patient_id=12345, patient_name='Ragnar Skullcrusher', diagnosis_code='H29.9', procedure_code='99215', total_charge=900.0, insurance_claim_amount=700.0),\n",
              " MedicalBilling(patient_id=98765, patient_name='Thaddeus Ironfang', diagnosis_code='C45.0', procedure_code='99212', total_charge=600.0, insurance_claim_amount=400.0),\n",
              " MedicalBilling(patient_id=24680, patient_name='Morgana Stormblade', diagnosis_code='N18.9', procedure_code='99213', total_charge=700.0, insurance_claim_amount=500.0),\n",
              " MedicalBilling(patient_id=45678, patient_name='Zephyr Thunderhawk', diagnosis_code='I10', procedure_code='99214', total_charge=800.0, insurance_claim_amount=600.0),\n",
              " MedicalBilling(patient_id=12345, patient_name='Galadriel Moonshadow', diagnosis_code='M25.5', procedure_code='99215', total_charge=900.0, insurance_claim_amount=700.0),\n",
              " MedicalBilling(patient_id=13579, patient_name='Ragnar Blackwell', diagnosis_code='G43.9', procedure_code='99212', total_charge=600.0, insurance_claim_amount=400.0),\n",
              " MedicalBilling(patient_id=87654, patient_name='Aurelia Nightshade', diagnosis_code='F32.9', procedure_code='99213', total_charge=700.0, insurance_claim_amount=500.0),\n",
              " MedicalBilling(patient_id=98765, patient_name='Thorin Thunderfury', diagnosis_code='I10', procedure_code='99214', total_charge=800.0, insurance_claim_amount=600.0),\n",
              " MedicalBilling(patient_id=12345, patient_name='Zephyr Nightwhisper', diagnosis_code='N18.9', procedure_code='99215', total_charge=900.0, insurance_claim_amount=700.0),\n",
              " MedicalBilling(patient_id=54321, patient_name='Finnick Ravenwood', diagnosis_code='M10.9', procedure_code='99212', total_charge=600.0, insurance_claim_amount=400.0),\n",
              " MedicalBilling(patient_id=24680, patient_name='Luna Starfall', diagnosis_code='G20', procedure_code='99213', total_charge=700.0, insurance_claim_amount=500.0),\n",
              " MedicalBilling(patient_id=98765, patient_name='Aurelia Thunderstrike', diagnosis_code='I50.9', procedure_code='99214', total_charge=800.0, insurance_claim_amount=600.0),\n",
              " MedicalBilling(patient_id=12345, patient_name='Gideon Nightshade', diagnosis_code='S52.91', procedure_code='99215', total_charge=900.0, insurance_claim_amount=700.0),\n",
              " MedicalBilling(patient_id=13579, patient_name='Xavier Shadowstorm', diagnosis_code='M10.9', procedure_code='99212', total_charge=600.0, insurance_claim_amount=400.0),\n",
              " MedicalBilling(patient_id=24680, patient_name='Luna Firestorm', diagnosis_code='N18.9', procedure_code='99213', total_charge=700.0, insurance_claim_amount=500.0),\n",
              " MedicalBilling(patient_id=98765, patient_name='Octavia Thunderstrike', diagnosis_code='E03.9', procedure_code='99214', total_charge=800.0, insurance_claim_amount=600.0),\n",
              " MedicalBilling(patient_id=98765, patient_name='Rufus Snickerdoodle', diagnosis_code='F32.9', procedure_code='99215', total_charge=900.0, insurance_claim_amount=700.0),\n",
              " MedicalBilling(patient_id=13579, patient_name='Gertrude McSnortlepants', diagnosis_code='G47.0', procedure_code='99212', total_charge=600.0, insurance_claim_amount=400.0),\n",
              " MedicalBilling(patient_id=12345, patient_name='Balthazar McQuigglywomp', diagnosis_code='R21', procedure_code='99213', total_charge=700.0, insurance_claim_amount=500.0),\n",
              " MedicalBilling(patient_id=24680, patient_name=\"Clementine O'Shannon\", diagnosis_code='K29.7', procedure_code='99214', total_charge=800.0, insurance_claim_amount=600.0),\n",
              " MedicalBilling(patient_id=98765, patient_name='Sullivan McFluffernutter', diagnosis_code='N18.9', procedure_code='99215', total_charge=900.0, insurance_claim_amount=700.0),\n",
              " MedicalBilling(patient_id=13579, patient_name='Zephyrine Pumpernickel', diagnosis_code='I10', procedure_code='99212', total_charge=600.0, insurance_claim_amount=400.0),\n",
              " MedicalBilling(patient_id=13579, patient_name='Balthazar McSnortle', diagnosis_code='I50.9', procedure_code='99213', total_charge=750.0, insurance_claim_amount=500.0),\n",
              " MedicalBilling(patient_id=12345, patient_name='Magenta McQuiggly', diagnosis_code='M25.5', procedure_code='99214', total_charge=800.0, insurance_claim_amount=600.0),\n",
              " MedicalBilling(patient_id=24680, patient_name='Rufus McFancybottom', diagnosis_code='J02.9', procedure_code='99215', total_charge=900.0, insurance_claim_amount=700.0),\n",
              " MedicalBilling(patient_id=98765, patient_name='Seraphina McThunderclap', diagnosis_code='L50.0', procedure_code='99212', total_charge=700.0, insurance_claim_amount=450.0),\n",
              " MedicalBilling(patient_id=13579, patient_name='Zephyr McWobble', diagnosis_code='T78.4', procedure_code='99213', total_charge=750.0, insurance_claim_amount=500.0),\n",
              " MedicalBilling(patient_id=12345, patient_name='Barnaby McSnufflebutt', diagnosis_code='M10.1', procedure_code='99214', total_charge=800.0, insurance_claim_amount=600.0),\n",
              " MedicalBilling(patient_id=24680, patient_name='Gwendolyn McSnorkelbottom', diagnosis_code='J40.1', procedure_code='99215', total_charge=850.0, insurance_claim_amount=700.0),\n",
              " MedicalBilling(patient_id=78901, patient_name='Ragnar Thunderschnitzel', diagnosis_code='G54.2', procedure_code='99212', total_charge=700.0, insurance_claim_amount=450.0),\n",
              " MedicalBilling(patient_id=98765, patient_name='Barnabas McFlufferbottom', diagnosis_code='K87.6', procedure_code='99213', total_charge=750.0, insurance_claim_amount=550.0),\n",
              " MedicalBilling(patient_id=13579, patient_name='Hortense McSquigglywump', diagnosis_code='F22.0', procedure_code='99214', total_charge=780.0, insurance_claim_amount=600.0),\n",
              " MedicalBilling(patient_id=35684, patient_name='Algernon McSnicklefritz', diagnosis_code='M44.9', procedure_code='99215', total_charge=800.0, insurance_claim_amount=650.0),\n",
              " MedicalBilling(patient_id=45678, patient_name='Mildred McWiggleshins', diagnosis_code='G12.1', procedure_code='99212', total_charge=700.0, insurance_claim_amount=500.0),\n",
              " MedicalBilling(patient_id=24689, patient_name='Percival McFluffybutt', diagnosis_code='I51.7', procedure_code='99213', total_charge=750.0, insurance_claim_amount=550.0),\n",
              " MedicalBilling(patient_id=13579, patient_name='Artemis McThunderstruck', diagnosis_code='K27.3', procedure_code='99214', total_charge=850.0, insurance_claim_amount=600.0),\n",
              " MedicalBilling(patient_id=98765, patient_name='Eustace McSquigglebottom', diagnosis_code='J37.0', procedure_code='99215', total_charge=900.0, insurance_claim_amount=650.0),\n",
              " MedicalBilling(patient_id=135790, patient_name='Fluffy McFlufferson', diagnosis_code='R46.0', procedure_code='90837', total_charge=950.0, insurance_claim_amount=700.0),\n",
              " MedicalBilling(patient_id=24680, patient_name='Mortimer McSizzlebottom', diagnosis_code='F10.2', procedure_code='99213', total_charge=800.0, insurance_claim_amount=550.0),\n",
              " MedicalBilling(patient_id=12345, patient_name='Spike Thunderhawk', diagnosis_code='I50.9', procedure_code='85025', total_charge=1000.0, insurance_claim_amount=700.0),\n",
              " MedicalBilling(patient_id=98765, patient_name='Luna Nightshade', diagnosis_code='G47.00', procedure_code='92014', total_charge=1200.0, insurance_claim_amount=800.0),\n",
              " MedicalBilling(patient_id=13579, patient_name='Bartholomew McFluffernutter', diagnosis_code='M54.5', procedure_code='99214', total_charge=900.0, insurance_claim_amount=600.0),\n",
              " MedicalBilling(patient_id=24680, patient_name='Mavis Thunderfist', diagnosis_code='F99.9', procedure_code='36415', total_charge=1500.0, insurance_claim_amount=1000.0),\n",
              " MedicalBilling(patient_id=12345, patient_name='Branwen Ironheart', diagnosis_code='J30.9', procedure_code='82948', total_charge=1800.0, insurance_claim_amount=1200.0),\n",
              " MedicalBilling(patient_id=98765, patient_name='Rufus McSquiggles', diagnosis_code='T88.6', procedure_code='72100', total_charge=2500.0, insurance_claim_amount=1500.0),\n",
              " MedicalBilling(patient_id=13579, patient_name='Prudence Bumbleberry', diagnosis_code='E78.5', procedure_code='58558', total_charge=2000.0, insurance_claim_amount=1300.0),\n",
              " MedicalBilling(patient_id=54321, patient_name='Zephyr Thunderclaw', diagnosis_code='N39.0', procedure_code='41212', total_charge=2200.0, insurance_claim_amount=1400.0),\n",
              " MedicalBilling(patient_id=24680, patient_name='Juno Fizzlepop', diagnosis_code='R67.0', procedure_code='12345', total_charge=1800.0, insurance_claim_amount=1200.0),\n",
              " MedicalBilling(patient_id=98765, patient_name='Rutherford McSnortle', diagnosis_code='I10', procedure_code='78901', total_charge=2500.0, insurance_claim_amount=1600.0),\n",
              " MedicalBilling(patient_id=12345, patient_name='Barnaby McFluffington', diagnosis_code='E11.9', procedure_code='67890', total_charge=1900.0, insurance_claim_amount=1300.0)]"
            ]
          },
          "execution_count": 11,
          "metadata": {},
          "output_type": "execute_result"
        }
      ],
      "source": [
        "synthetic_results"
      ]
    },
    {
      "cell_type": "markdown",
      "id": "XJ3vfh9UfyLS",
      "metadata": {
        "id": "XJ3vfh9UfyLS"
      },
      "source": [
        "## 7. Converting the synthetic data into Pandas Dataframe"
      ]
    },
    {
      "cell_type": "code",
      "execution_count": 12,
      "id": "LLbrrDNMeQLe",
      "metadata": {
        "colab": {
          "base_uri": "https://localhost:8080/",
          "height": 380
        },
        "id": "LLbrrDNMeQLe",
        "outputId": "223f0c2b-5796-42b1-fe93-a26795ce554b"
      },
      "outputs": [
        {
          "name": "stdout",
          "output_type": "stream",
          "text": [
            "<class 'pandas.core.frame.DataFrame'>\n"
          ]
        },
        {
          "data": {
            "text/html": [
              "<div>\n",
              "<style scoped>\n",
              "    .dataframe tbody tr th:only-of-type {\n",
              "        vertical-align: middle;\n",
              "    }\n",
              "\n",
              "    .dataframe tbody tr th {\n",
              "        vertical-align: top;\n",
              "    }\n",
              "\n",
              "    .dataframe thead th {\n",
              "        text-align: right;\n",
              "    }\n",
              "</style>\n",
              "<table border=\"1\" class=\"dataframe\">\n",
              "  <thead>\n",
              "    <tr style=\"text-align: right;\">\n",
              "      <th></th>\n",
              "      <th>patient_id</th>\n",
              "      <th>patient_name</th>\n",
              "      <th>diagnosis_code</th>\n",
              "      <th>procedure_code</th>\n",
              "      <th>total_charge</th>\n",
              "      <th>insurance_claim_amount</th>\n",
              "    </tr>\n",
              "  </thead>\n",
              "  <tbody>\n",
              "    <tr>\n",
              "      <th>0</th>\n",
              "      <td>123456</td>\n",
              "      <td>Alice Johnson</td>\n",
              "      <td>G40.909</td>\n",
              "      <td>99203</td>\n",
              "      <td>600.0</td>\n",
              "      <td>400.0</td>\n",
              "    </tr>\n",
              "    <tr>\n",
              "      <th>1</th>\n",
              "      <td>456789</td>\n",
              "      <td>Samantha Rodriguez</td>\n",
              "      <td>I10</td>\n",
              "      <td>99212</td>\n",
              "      <td>200.0</td>\n",
              "      <td>150.0</td>\n",
              "    </tr>\n",
              "    <tr>\n",
              "      <th>2</th>\n",
              "      <td>987654</td>\n",
              "      <td>Xavier Thompson</td>\n",
              "      <td>M25.511</td>\n",
              "      <td>99213</td>\n",
              "      <td>400.0</td>\n",
              "      <td>300.0</td>\n",
              "    </tr>\n",
              "    <tr>\n",
              "      <th>3</th>\n",
              "      <td>999999</td>\n",
              "      <td>Evangeline O'Malley</td>\n",
              "      <td>S72.502A</td>\n",
              "      <td>99204</td>\n",
              "      <td>800.0</td>\n",
              "      <td>600.0</td>\n",
              "    </tr>\n",
              "    <tr>\n",
              "      <th>4</th>\n",
              "      <td>123456</td>\n",
              "      <td>Finnegan McLeod</td>\n",
              "      <td>E78.5</td>\n",
              "      <td>99203</td>\n",
              "      <td>300.0</td>\n",
              "      <td>250.0</td>\n",
              "    </tr>\n",
              "    <tr>\n",
              "      <th>...</th>\n",
              "      <td>...</td>\n",
              "      <td>...</td>\n",
              "      <td>...</td>\n",
              "      <td>...</td>\n",
              "      <td>...</td>\n",
              "      <td>...</td>\n",
              "    </tr>\n",
              "    <tr>\n",
              "      <th>95</th>\n",
              "      <td>13579</td>\n",
              "      <td>Prudence Bumbleberry</td>\n",
              "      <td>E78.5</td>\n",
              "      <td>58558</td>\n",
              "      <td>2000.0</td>\n",
              "      <td>1300.0</td>\n",
              "    </tr>\n",
              "    <tr>\n",
              "      <th>96</th>\n",
              "      <td>54321</td>\n",
              "      <td>Zephyr Thunderclaw</td>\n",
              "      <td>N39.0</td>\n",
              "      <td>41212</td>\n",
              "      <td>2200.0</td>\n",
              "      <td>1400.0</td>\n",
              "    </tr>\n",
              "    <tr>\n",
              "      <th>97</th>\n",
              "      <td>24680</td>\n",
              "      <td>Juno Fizzlepop</td>\n",
              "      <td>R67.0</td>\n",
              "      <td>12345</td>\n",
              "      <td>1800.0</td>\n",
              "      <td>1200.0</td>\n",
              "    </tr>\n",
              "    <tr>\n",
              "      <th>98</th>\n",
              "      <td>98765</td>\n",
              "      <td>Rutherford McSnortle</td>\n",
              "      <td>I10</td>\n",
              "      <td>78901</td>\n",
              "      <td>2500.0</td>\n",
              "      <td>1600.0</td>\n",
              "    </tr>\n",
              "    <tr>\n",
              "      <th>99</th>\n",
              "      <td>12345</td>\n",
              "      <td>Barnaby McFluffington</td>\n",
              "      <td>E11.9</td>\n",
              "      <td>67890</td>\n",
              "      <td>1900.0</td>\n",
              "      <td>1300.0</td>\n",
              "    </tr>\n",
              "  </tbody>\n",
              "</table>\n",
              "<p>100 rows × 6 columns</p>\n",
              "</div>"
            ],
            "text/plain": [
              "    patient_id           patient_name diagnosis_code procedure_code  \\\n",
              "0       123456          Alice Johnson        G40.909          99203   \n",
              "1       456789     Samantha Rodriguez            I10          99212   \n",
              "2       987654        Xavier Thompson        M25.511          99213   \n",
              "3       999999    Evangeline O'Malley       S72.502A          99204   \n",
              "4       123456        Finnegan McLeod          E78.5          99203   \n",
              "..         ...                    ...            ...            ...   \n",
              "95       13579   Prudence Bumbleberry          E78.5          58558   \n",
              "96       54321     Zephyr Thunderclaw          N39.0          41212   \n",
              "97       24680         Juno Fizzlepop          R67.0          12345   \n",
              "98       98765   Rutherford McSnortle            I10          78901   \n",
              "99       12345  Barnaby McFluffington          E11.9          67890   \n",
              "\n",
              "    total_charge  insurance_claim_amount  \n",
              "0          600.0                   400.0  \n",
              "1          200.0                   150.0  \n",
              "2          400.0                   300.0  \n",
              "3          800.0                   600.0  \n",
              "4          300.0                   250.0  \n",
              "..           ...                     ...  \n",
              "95        2000.0                  1300.0  \n",
              "96        2200.0                  1400.0  \n",
              "97        1800.0                  1200.0  \n",
              "98        2500.0                  1600.0  \n",
              "99        1900.0                  1300.0  \n",
              "\n",
              "[100 rows x 6 columns]"
            ]
          },
          "execution_count": 12,
          "metadata": {},
          "output_type": "execute_result"
        }
      ],
      "source": [
        "import pandas as pd\n",
        "\n",
        "# Create a list of dictionaries from the objects\n",
        "synthetic_data = []\n",
        "for item in synthetic_results:\n",
        "    synthetic_data.append({\n",
        "        'patient_id': item.patient_id,\n",
        "        'patient_name': item.patient_name,\n",
        "        'diagnosis_code': item.diagnosis_code,\n",
        "        'procedure_code': item.procedure_code,\n",
        "        'total_charge': item.total_charge,\n",
        "        'insurance_claim_amount': item.insurance_claim_amount\n",
        "    })\n",
        "\n",
        "# Create a Pandas DataFrame from the list of dictionaries\n",
        "synthetic_df = pd.DataFrame(synthetic_data)\n",
        "\n",
        "# Display the DataFrame\n",
        "print(type(synthetic_df))\n",
        "synthetic_df"
      ]
    },
    {
      "cell_type": "code",
      "execution_count": 13,
      "id": "3z0FY1xEe81v",
      "metadata": {
        "colab": {
          "base_uri": "https://localhost:8080/"
        },
        "id": "3z0FY1xEe81v",
        "outputId": "614c2dee-388c-4efd-b1e0-16256c2347fb"
      },
      "outputs": [
        {
          "data": {
            "text/plain": [
              "(100, 6)"
            ]
          },
          "execution_count": 13,
          "metadata": {},
          "output_type": "execute_result"
        }
      ],
      "source": [
        "synthetic_df.shape"
      ]
    },
    {
      "cell_type": "markdown",
      "id": "pYsSc2jcfr6R",
      "metadata": {
        "id": "pYsSc2jcfr6R"
      },
      "source": [
        "### Start exploring based on your usecase and use the same approach for real sensitive data. But, be careful, as the synthetic data might not capture the real-world complexities."
      ]
    }
  ],
  "metadata": {
    "colab": {
      "include_colab_link": true,
      "provenance": []
    },
    "kernelspec": {
      "display_name": "Python 3 (ipykernel)",
      "language": "python",
      "name": "python3"
    },
    "language_info": {
      "codemirror_mode": {
        "name": "ipython",
        "version": 3
      },
      "file_extension": ".py",
      "mimetype": "text/x-python",
      "name": "python",
      "nbconvert_exporter": "python",
      "pygments_lexer": "ipython3",
      "version": "3.11.6"
    }
  },
  "nbformat": 4,
  "nbformat_minor": 5
}
