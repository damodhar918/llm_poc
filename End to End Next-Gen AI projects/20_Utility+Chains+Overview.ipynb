{
 "cells": [
  {
   "cell_type": "markdown",
   "id": "7585270c",
   "metadata": {},
   "source": [
    "# Utility Chains Overview"
   ]
  },
  {
   "cell_type": "markdown",
   "id": "416fc6f5",
   "metadata": {},
   "source": [
    "## Summarizing Documents"
   ]
  },
  {
   "cell_type": "markdown",
   "id": "6782af7d",
   "metadata": {},
   "source": [
    "### load_summarize_chain"
   ]
  },
  {
   "cell_type": "code",
   "execution_count": 1,
   "id": "c27204db",
   "metadata": {},
   "outputs": [],
   "source": [
    "#Please install the package as per your requirement :)\n",
    "#!pip install openai==1.10.0\n",
    "#!pip install langchain==0.1.4\n",
    "#!pip install huggingface-hub==0.20.3\n",
    "#!pip install langchain-openai==0.0.5\n",
    "#!pip install tiktoken==0.5.2\n",
    "#!pip install bs4==0.0.2"
   ]
  },
  {
   "cell_type": "code",
   "execution_count": 1,
   "id": "db3f812e",
   "metadata": {},
   "outputs": [
    {
     "data": {
      "text/plain": [
       "True"
      ]
     },
     "execution_count": 1,
     "metadata": {},
     "output_type": "execute_result"
    }
   ],
   "source": [
    "from dotenv import load_dotenv\n",
    "load_dotenv()"
   ]
  },
  {
   "cell_type": "code",
   "execution_count": 2,
   "id": "ceb56eaa",
   "metadata": {},
   "outputs": [],
   "source": [
    "#The below import has been replaced by the later one\n",
    "#from langchain.llms import OpenAI\n",
    "from langchain_openai import OpenAI\n",
    "from langchain.prompts import PromptTemplate\n",
    "from langchain.chains.summarize import load_summarize_chain\n",
    "from langchain.text_splitter import CharacterTextSplitter\n",
    "from langchain.docstore.document import Document"
   ]
  },
  {
   "cell_type": "code",
   "execution_count": 3,
   "id": "333eca01",
   "metadata": {},
   "outputs": [],
   "source": [
    "llm = OpenAI(temperature=0.9)"
   ]
  },
  {
   "cell_type": "code",
   "execution_count": 5,
   "id": "369ec2d4",
   "metadata": {},
   "outputs": [],
   "source": [
    "# Reading the document\n",
    "with open(r\"./data/sample.txt\") as f:\n",
    "    data = f.read()"
   ]
  },
  {
   "cell_type": "markdown",
   "id": "75c86c6b",
   "metadata": {},
   "source": [
    "<font color='green'>\n",
    "When it comes to document processing, breaking a large document into smaller, more manageable chunks is essential\n",
    "<font>"
   ]
  },
  {
   "cell_type": "code",
   "execution_count": 6,
   "id": "e378c705",
   "metadata": {},
   "outputs": [],
   "source": [
    "# Split text\n",
    "text_splitter = CharacterTextSplitter()\n",
    "texts = text_splitter.split_text(data)"
   ]
  },
  {
   "cell_type": "code",
   "execution_count": 7,
   "id": "1e33b908",
   "metadata": {},
   "outputs": [],
   "source": [
    "# Create multiple documents\n",
    "docs = [Document(page_content=t) for t in texts]"
   ]
  },
  {
   "cell_type": "code",
   "execution_count": 8,
   "id": "aa7b6158",
   "metadata": {},
   "outputs": [
    {
     "data": {
      "text/plain": [
       "[Document(page_content=\"India at a Glance\\nBackground\\nIndia has a unique culture and is one of the oldest and greatest civilizations of the world. India has achieved all-round socio-economic progress since its Independence. India covers an area of 32,87,263 sq. km, extending from the snow-covered Himalayan heights to the tropical rain forests of the south. As the 7th largest country in the world, India stands apart from the rest of Asia, marked off as it is by mountains and the sea, which give the country a distinct geographical entity. Bounded by the Great Himalayas in the north, it stretches southwards and at the Tropic of Cancer, tapers off into the Indian Ocean between the Bay of Bengal on the east and the Arabian Sea on the west.\\n\\nLying entirely in the northern hemisphere, the mainland extends between latitudes 8Â° 4' and 37Â° 6' north, longitudes 68Â° 7' and 97Â° 25' east and measures about 3,214 km from north to south between the extreme latitudes and about 2,933 km from east to west between the extreme longitudes. It has a land frontier of about 15,200 km. The total length of the coastline of the mainland, Lakshadweep Islands and Andaman & Nicobar Islands is 7,516.6 km.\\n\\nGeography\\nGeographical information about India\\n\\nParticulars\\tDescription\\n\\nLocation\\tThe Indian peninsula is separated from mainland Asia by the Himalayas. The Country is surrounded by the Bay of Bengal in the east, the Arabian Sea in the west, and the Indian Ocean to the south.\\n\\nGeographic Coordinates\\tLying entirely in the Northern Hemisphere, the Country extends between 8Â° 4' and 37Â° 6' latitudes north of the Equator, and 68Â° 7' and 97Â° 25' longitudes east of it.\\n\\nIndian Standard Time\\tGMT + 05:30\\n\\nArea\\t3.3 Million sq. km\\n\\nTelephone Country Code\\t+91\\n\\nBorder Countries\\tAfghanistan and Pakistan to the north-west; China, Bhutan and Nepal to the north; Myanmar to the far east; and Bangladesh to the east of West Bengal. Sri Lanka is separated from India by a narrow channel of sea, formed by Palk Strait and the Gulf of Mannar.\\n\\nCoastline\\t7,516.6 km encompassing the mainland, Lakshadweep Islands, and the Andaman & Nicobar Islands.\\n\\nClimate\\tThe climate of India can broadly be classified as a tropical monsoon one. The Indian Meteorological Department (IMD) designates four official seasons:\\n\\nWinter, from December to early April\\n\\nSummer or pre-monsoon, from April to June (April to July in north-western India)\\n\\nMonsoon or rainy, from June to September\\n\\nPost-monsoon, from October to December\\n\\nTerrain\\tThe mainland comprises of four regions, namely the great mountain zone, plains of the Ganga and the Indus, the desert region, and the southern peninsula.\\n\\nNatural Resources\\tCoal, iron ore, manganese ore, mica, bauxite, petroleum, titanium ore, chromite, natural gas, magnesite, limestone, arable land, dolomite, barytes, kaolin, gypsum, apatite, phosphorite, steatite, fluorite, etc.\\n\\nNatural Hazards\\tMonsoon floods, flash floods, earthquakes, droughts, and landslides.\\n\\nEnvironment - Current Issues\\tAir pollution control, energy conservation, solid waste management, oil and gas conservation, forest conservation, etc.\\n\\nEnvironment - International Agreements\\tRio Declaration on environment and development, Cartagena Protocol on biosafety, Kyoto Protocol to the United Nations Framework Convention on climatic change, World Trade Agreement, Helsinki Protocol to LRTAP on the reduction of sulphur emissions of nitrogen oxides or their transboundary fluxes (Nox Protocol), and Geneva Protocol to LRTAP concerning the control of emissions of volatile organic compounds or their transboundary fluxes (VOCs Protocol).\\nGeography - \\nNote\\tIndia occupies a major portion of the south Asian subcontinent.\\n\\nPeople\\nInformation about Indian Citizens\\nParticulars\\tDescription\\n\\nPopulation\\tIndia's population, as on 1 March 2011 stood at 1,210.9 million (623.2 million males and 587.6 million females)\\n\\nPopulation Growth Rate\\tThe average annual exponential growth rate stands at 1.64 per cent during 2001-2011\"),\n",
       " Document(page_content=\"Population Growth Rate\\tThe average annual exponential growth rate stands at 1.64 per cent during 2001-2011\\n\\nBirth Rate\\tThe Crude Birth rate was 20.1 during 2011-15\\n\\nDeath Rate\\tThe Crude Death rate was 7.2 during 2011-15\\n\\nLife Expectancy Rate\\t65.8 years (Males); 68.1 years (Females) in the period 2006-2011\\n\\nSex Ratio\\t940 according to the 2011 census\\n\\nNationality\\tIndian\\n\\nEthnic Groups\\tAll the five major racial types - Australoid, Mongoloid, Europoid, Caucasian, and Negroid find representation among the people of India.\\n\\nReligions\\tAccording to the 2001 census, out of the total population of 1,028 million in the Country, Hindus constituted the majority with 80.5%, Muslims came second at 13.4%, followed by Christians, Sikhs, Buddhists, Jains, and others.\\n\\nLanguages\\tThere are 22 different languages that have been recognised by the Constitution of India, of which Hindi is an Official Language. Article 343(3) empowered Parliament to provide by law for continued use of English for official purposes.\\n\\nLiteracy\\tAccording to the provisional results of the 2011 census, the literacy rate in the Country stands at 74.04 per cent, 82.14% for males and 65.46% for females.\\n\\nGovernment\\n\\nInformation about Indian Government\\n\\nParticulars\\tDescription\\n\\nCountry Name\\tRepublic of India; Bharat Ganrajya\\n\\nGovernment Type\\tSovereign Socialist Democratic Republic with a Parliamentary system of Government.\\n\\nCapital\\tNew Delhi\\n\\nAdministrative Divisions\\t28 States and 8 Union Territories.\\n\\nIndependence\\t15th August 1947 (From the British Colonial Rule)\\n\\nConstitution\\tThe Constitution of India came into force on 26th January 1950.\\n\\nLegal System\\tThe Constitution of India is the fountain source of the legal system in the Country.\\n\\nExecutive Branch\\tThe President of India is the Head of the State, while the Prime Minister is the Head of the Government, and runs office with the support of the Council of Ministers who form the Cabinet Ministry.\\n\\nLegislative Branch\\tThe Indian Legislature comprises of the Lok Sabha (House of the People) and the Rajya Sabha (Council of States) forming both the Houses of the Parliament.\\n\\n\\nJudicial Branch\\tThe Supreme Court of India is the apex body of the Indian legal system, followed by other High Courts and subordinate Courts.\\n\\nFlag Description\\tThe National Flag is a horizontal tricolour of deep saffron (kesaria) at the top, white in the middle, and dark green at the bottom in equal proportion. At the centre of the white band is a navy blue wheel, which is a representation of the Ashoka Chakra at Sarnath.\\n\\nNational Days\\t26th January (Republic Day)\\n\\n15th August (Independence Day)\\n\\n2nd October (Gandhi Jayanti; Mahatma Gandhi's Birthday)\")]"
      ]
     },
     "execution_count": 8,
     "metadata": {},
     "output_type": "execute_result"
    }
   ],
   "source": [
    "docs"
   ]
  },
  {
   "cell_type": "markdown",
   "id": "7bf24b6b",
   "metadata": {},
   "source": [
    "<font color='green'>\n",
    "To create an instance of load_summarizer_chain, we need to provide three arguments. <br><br>Firstly, we need to pass the desired large language model that will be used to query the user input. Secondly, we specify the type of langchain chain to be used for summarizing documents.<br> Lastly, we can set the verbose argument to True if we want to see all the intermediate steps involved in processing the user request and generating the output.<font>"
   ]
  },
  {
   "cell_type": "code",
   "execution_count": 9,
   "id": "a582191f",
   "metadata": {},
   "outputs": [
    {
     "name": "stdout",
     "output_type": "stream",
     "text": [
      "\n",
      "\n",
      "\u001b[1m> Entering new MapReduceDocumentsChain chain...\u001b[0m\n",
      "\n",
      "\n",
      "\u001b[1m> Entering new LLMChain chain...\u001b[0m\n",
      "Prompt after formatting:\n",
      "\u001b[32;1m\u001b[1;3mWrite a concise summary of the following:\n",
      "\n",
      "\n",
      "\"India at a Glance\n",
      "Background\n",
      "India has a unique culture and is one of the oldest and greatest civilizations of the world. India has achieved all-round socio-economic progress since its Independence. India covers an area of 32,87,263 sq. km, extending from the snow-covered Himalayan heights to the tropical rain forests of the south. As the 7th largest country in the world, India stands apart from the rest of Asia, marked off as it is by mountains and the sea, which give the country a distinct geographical entity. Bounded by the Great Himalayas in the north, it stretches southwards and at the Tropic of Cancer, tapers off into the Indian Ocean between the Bay of Bengal on the east and the Arabian Sea on the west.\n",
      "\n",
      "Lying entirely in the northern hemisphere, the mainland extends between latitudes 8Â° 4' and 37Â° 6' north, longitudes 68Â° 7' and 97Â° 25' east and measures about 3,214 km from north to south between the extreme latitudes and about 2,933 km from east to west between the extreme longitudes. It has a land frontier of about 15,200 km. The total length of the coastline of the mainland, Lakshadweep Islands and Andaman & Nicobar Islands is 7,516.6 km.\n",
      "\n",
      "Geography\n",
      "Geographical information about India\n",
      "\n",
      "Particulars\tDescription\n",
      "\n",
      "Location\tThe Indian peninsula is separated from mainland Asia by the Himalayas. The Country is surrounded by the Bay of Bengal in the east, the Arabian Sea in the west, and the Indian Ocean to the south.\n",
      "\n",
      "Geographic Coordinates\tLying entirely in the Northern Hemisphere, the Country extends between 8Â° 4' and 37Â° 6' latitudes north of the Equator, and 68Â° 7' and 97Â° 25' longitudes east of it.\n",
      "\n",
      "Indian Standard Time\tGMT + 05:30\n",
      "\n",
      "Area\t3.3 Million sq. km\n",
      "\n",
      "Telephone Country Code\t+91\n",
      "\n",
      "Border Countries\tAfghanistan and Pakistan to the north-west; China, Bhutan and Nepal to the north; Myanmar to the far east; and Bangladesh to the east of West Bengal. Sri Lanka is separated from India by a narrow channel of sea, formed by Palk Strait and the Gulf of Mannar.\n",
      "\n",
      "Coastline\t7,516.6 km encompassing the mainland, Lakshadweep Islands, and the Andaman & Nicobar Islands.\n",
      "\n",
      "Climate\tThe climate of India can broadly be classified as a tropical monsoon one. The Indian Meteorological Department (IMD) designates four official seasons:\n",
      "\n",
      "Winter, from December to early April\n",
      "\n",
      "Summer or pre-monsoon, from April to June (April to July in north-western India)\n",
      "\n",
      "Monsoon or rainy, from June to September\n",
      "\n",
      "Post-monsoon, from October to December\n",
      "\n",
      "Terrain\tThe mainland comprises of four regions, namely the great mountain zone, plains of the Ganga and the Indus, the desert region, and the southern peninsula.\n",
      "\n",
      "Natural Resources\tCoal, iron ore, manganese ore, mica, bauxite, petroleum, titanium ore, chromite, natural gas, magnesite, limestone, arable land, dolomite, barytes, kaolin, gypsum, apatite, phosphorite, steatite, fluorite, etc.\n",
      "\n",
      "Natural Hazards\tMonsoon floods, flash floods, earthquakes, droughts, and landslides.\n",
      "\n",
      "Environment - Current Issues\tAir pollution control, energy conservation, solid waste management, oil and gas conservation, forest conservation, etc.\n",
      "\n",
      "Environment - International Agreements\tRio Declaration on environment and development, Cartagena Protocol on biosafety, Kyoto Protocol to the United Nations Framework Convention on climatic change, World Trade Agreement, Helsinki Protocol to LRTAP on the reduction of sulphur emissions of nitrogen oxides or their transboundary fluxes (Nox Protocol), and Geneva Protocol to LRTAP concerning the control of emissions of volatile organic compounds or their transboundary fluxes (VOCs Protocol).\n",
      "Geography - \n",
      "Note\tIndia occupies a major portion of the south Asian subcontinent.\n",
      "\n",
      "People\n",
      "Information about Indian Citizens\n",
      "Particulars\tDescription\n",
      "\n",
      "Population\tIndia's population, as on 1 March 2011 stood at 1,210.9 million (623.2 million males and 587.6 million females)\n",
      "\n",
      "Population Growth Rate\tThe average annual exponential growth rate stands at 1.64 per cent during 2001-2011\"\n",
      "\n",
      "\n",
      "CONCISE SUMMARY:\u001b[0m\n",
      "Prompt after formatting:\n",
      "\u001b[32;1m\u001b[1;3mWrite a concise summary of the following:\n",
      "\n",
      "\n",
      "\"Population Growth Rate\tThe average annual exponential growth rate stands at 1.64 per cent during 2001-2011\n",
      "\n",
      "Birth Rate\tThe Crude Birth rate was 20.1 during 2011-15\n",
      "\n",
      "Death Rate\tThe Crude Death rate was 7.2 during 2011-15\n",
      "\n",
      "Life Expectancy Rate\t65.8 years (Males); 68.1 years (Females) in the period 2006-2011\n",
      "\n",
      "Sex Ratio\t940 according to the 2011 census\n",
      "\n",
      "Nationality\tIndian\n",
      "\n",
      "Ethnic Groups\tAll the five major racial types - Australoid, Mongoloid, Europoid, Caucasian, and Negroid find representation among the people of India.\n",
      "\n",
      "Religions\tAccording to the 2001 census, out of the total population of 1,028 million in the Country, Hindus constituted the majority with 80.5%, Muslims came second at 13.4%, followed by Christians, Sikhs, Buddhists, Jains, and others.\n",
      "\n",
      "Languages\tThere are 22 different languages that have been recognised by the Constitution of India, of which Hindi is an Official Language. Article 343(3) empowered Parliament to provide by law for continued use of English for official purposes.\n",
      "\n",
      "Literacy\tAccording to the provisional results of the 2011 census, the literacy rate in the Country stands at 74.04 per cent, 82.14% for males and 65.46% for females.\n",
      "\n",
      "Government\n",
      "\n",
      "Information about Indian Government\n",
      "\n",
      "Particulars\tDescription\n",
      "\n",
      "Country Name\tRepublic of India; Bharat Ganrajya\n",
      "\n",
      "Government Type\tSovereign Socialist Democratic Republic with a Parliamentary system of Government.\n",
      "\n",
      "Capital\tNew Delhi\n",
      "\n",
      "Administrative Divisions\t28 States and 8 Union Territories.\n",
      "\n",
      "Independence\t15th August 1947 (From the British Colonial Rule)\n",
      "\n",
      "Constitution\tThe Constitution of India came into force on 26th January 1950.\n",
      "\n",
      "Legal System\tThe Constitution of India is the fountain source of the legal system in the Country.\n",
      "\n",
      "Executive Branch\tThe President of India is the Head of the State, while the Prime Minister is the Head of the Government, and runs office with the support of the Council of Ministers who form the Cabinet Ministry.\n",
      "\n",
      "Legislative Branch\tThe Indian Legislature comprises of the Lok Sabha (House of the People) and the Rajya Sabha (Council of States) forming both the Houses of the Parliament.\n",
      "\n",
      "\n",
      "Judicial Branch\tThe Supreme Court of India is the apex body of the Indian legal system, followed by other High Courts and subordinate Courts.\n",
      "\n",
      "Flag Description\tThe National Flag is a horizontal tricolour of deep saffron (kesaria) at the top, white in the middle, and dark green at the bottom in equal proportion. At the centre of the white band is a navy blue wheel, which is a representation of the Ashoka Chakra at Sarnath.\n",
      "\n",
      "National Days\t26th January (Republic Day)\n",
      "\n",
      "15th August (Independence Day)\n",
      "\n",
      "2nd October (Gandhi Jayanti; Mahatma Gandhi's Birthday)\"\n",
      "\n",
      "\n",
      "CONCISE SUMMARY:\u001b[0m\n",
      "\n",
      "\u001b[1m> Finished chain.\u001b[0m\n",
      "\n",
      "\n",
      "\u001b[1m> Entering new LLMChain chain...\u001b[0m\n",
      "Prompt after formatting:\n",
      "\u001b[32;1m\u001b[1;3mWrite a concise summary of the following:\n",
      "\n",
      "\n",
      "\" India is a diverse country with a rich culture and history. It has made significant progress in various aspects since its independence. The country is located in the northern hemisphere, with the Himalayas in the north and surrounded by the Bay of Bengal, Arabian Sea, and Indian Ocean. It has a total area of 3.3 million sq. km and shares borders with various countries. The climate is classified as tropical monsoon with four official seasons. India is rich in natural resources but also faces hazards such as floods, earthquakes, and landslides. Environmental concerns such as air pollution and energy conservation are being addressed. As of 2011, the population of India was 1.2 billion, with an average annual growth rate of 1.64%.\n",
      "\n",
      "\n",
      "\n",
      "India has a population growth rate of 1.64% annually, with a crude birth rate of 20.1 and crude death rate of 7.2. The average life expectancy is 65.8 years for males and 68.1 years for females. The sex ratio is 940 males to every 1000 females. The majority of the population is Hindu, followed by Muslims, Christians, Sikhs, Buddhists, Jains, and others. There are 22 recognized languages in India, with Hindi being the official language. The literacy rate is 74.04%, with the highest rate among males. India is a sovereign socialist democratic republic with a parliamentary system of government. The capital is New Delhi and the country is divided into 28 states and 8 union territories. India gained independence from British colonial rule in 1947 and the current constitution was adopted in 1950. The President is the Head of State and the Prime Minister is the Head of Government. The legal system is based on the constitution and the Supreme Court is the highest body. The national flag is a tricolor with the Ashoka Chakra in the center. National days include Republic Day, Independence Day, and Gandhi Jayanti.\"\n",
      "\n",
      "\n",
      "CONCISE SUMMARY:\u001b[0m\n",
      "\n",
      "\u001b[1m> Finished chain.\u001b[0m\n",
      "\n",
      "\u001b[1m> Finished chain.\u001b[0m\n"
     ]
    },
    {
     "data": {
      "text/plain": [
       "{'input_documents': [Document(page_content=\"India at a Glance\\nBackground\\nIndia has a unique culture and is one of the oldest and greatest civilizations of the world. India has achieved all-round socio-economic progress since its Independence. India covers an area of 32,87,263 sq. km, extending from the snow-covered Himalayan heights to the tropical rain forests of the south. As the 7th largest country in the world, India stands apart from the rest of Asia, marked off as it is by mountains and the sea, which give the country a distinct geographical entity. Bounded by the Great Himalayas in the north, it stretches southwards and at the Tropic of Cancer, tapers off into the Indian Ocean between the Bay of Bengal on the east and the Arabian Sea on the west.\\n\\nLying entirely in the northern hemisphere, the mainland extends between latitudes 8Â° 4' and 37Â° 6' north, longitudes 68Â° 7' and 97Â° 25' east and measures about 3,214 km from north to south between the extreme latitudes and about 2,933 km from east to west between the extreme longitudes. It has a land frontier of about 15,200 km. The total length of the coastline of the mainland, Lakshadweep Islands and Andaman & Nicobar Islands is 7,516.6 km.\\n\\nGeography\\nGeographical information about India\\n\\nParticulars\\tDescription\\n\\nLocation\\tThe Indian peninsula is separated from mainland Asia by the Himalayas. The Country is surrounded by the Bay of Bengal in the east, the Arabian Sea in the west, and the Indian Ocean to the south.\\n\\nGeographic Coordinates\\tLying entirely in the Northern Hemisphere, the Country extends between 8Â° 4' and 37Â° 6' latitudes north of the Equator, and 68Â° 7' and 97Â° 25' longitudes east of it.\\n\\nIndian Standard Time\\tGMT + 05:30\\n\\nArea\\t3.3 Million sq. km\\n\\nTelephone Country Code\\t+91\\n\\nBorder Countries\\tAfghanistan and Pakistan to the north-west; China, Bhutan and Nepal to the north; Myanmar to the far east; and Bangladesh to the east of West Bengal. Sri Lanka is separated from India by a narrow channel of sea, formed by Palk Strait and the Gulf of Mannar.\\n\\nCoastline\\t7,516.6 km encompassing the mainland, Lakshadweep Islands, and the Andaman & Nicobar Islands.\\n\\nClimate\\tThe climate of India can broadly be classified as a tropical monsoon one. The Indian Meteorological Department (IMD) designates four official seasons:\\n\\nWinter, from December to early April\\n\\nSummer or pre-monsoon, from April to June (April to July in north-western India)\\n\\nMonsoon or rainy, from June to September\\n\\nPost-monsoon, from October to December\\n\\nTerrain\\tThe mainland comprises of four regions, namely the great mountain zone, plains of the Ganga and the Indus, the desert region, and the southern peninsula.\\n\\nNatural Resources\\tCoal, iron ore, manganese ore, mica, bauxite, petroleum, titanium ore, chromite, natural gas, magnesite, limestone, arable land, dolomite, barytes, kaolin, gypsum, apatite, phosphorite, steatite, fluorite, etc.\\n\\nNatural Hazards\\tMonsoon floods, flash floods, earthquakes, droughts, and landslides.\\n\\nEnvironment - Current Issues\\tAir pollution control, energy conservation, solid waste management, oil and gas conservation, forest conservation, etc.\\n\\nEnvironment - International Agreements\\tRio Declaration on environment and development, Cartagena Protocol on biosafety, Kyoto Protocol to the United Nations Framework Convention on climatic change, World Trade Agreement, Helsinki Protocol to LRTAP on the reduction of sulphur emissions of nitrogen oxides or their transboundary fluxes (Nox Protocol), and Geneva Protocol to LRTAP concerning the control of emissions of volatile organic compounds or their transboundary fluxes (VOCs Protocol).\\nGeography - \\nNote\\tIndia occupies a major portion of the south Asian subcontinent.\\n\\nPeople\\nInformation about Indian Citizens\\nParticulars\\tDescription\\n\\nPopulation\\tIndia's population, as on 1 March 2011 stood at 1,210.9 million (623.2 million males and 587.6 million females)\\n\\nPopulation Growth Rate\\tThe average annual exponential growth rate stands at 1.64 per cent during 2001-2011\"),\n",
       "  Document(page_content=\"Population Growth Rate\\tThe average annual exponential growth rate stands at 1.64 per cent during 2001-2011\\n\\nBirth Rate\\tThe Crude Birth rate was 20.1 during 2011-15\\n\\nDeath Rate\\tThe Crude Death rate was 7.2 during 2011-15\\n\\nLife Expectancy Rate\\t65.8 years (Males); 68.1 years (Females) in the period 2006-2011\\n\\nSex Ratio\\t940 according to the 2011 census\\n\\nNationality\\tIndian\\n\\nEthnic Groups\\tAll the five major racial types - Australoid, Mongoloid, Europoid, Caucasian, and Negroid find representation among the people of India.\\n\\nReligions\\tAccording to the 2001 census, out of the total population of 1,028 million in the Country, Hindus constituted the majority with 80.5%, Muslims came second at 13.4%, followed by Christians, Sikhs, Buddhists, Jains, and others.\\n\\nLanguages\\tThere are 22 different languages that have been recognised by the Constitution of India, of which Hindi is an Official Language. Article 343(3) empowered Parliament to provide by law for continued use of English for official purposes.\\n\\nLiteracy\\tAccording to the provisional results of the 2011 census, the literacy rate in the Country stands at 74.04 per cent, 82.14% for males and 65.46% for females.\\n\\nGovernment\\n\\nInformation about Indian Government\\n\\nParticulars\\tDescription\\n\\nCountry Name\\tRepublic of India; Bharat Ganrajya\\n\\nGovernment Type\\tSovereign Socialist Democratic Republic with a Parliamentary system of Government.\\n\\nCapital\\tNew Delhi\\n\\nAdministrative Divisions\\t28 States and 8 Union Territories.\\n\\nIndependence\\t15th August 1947 (From the British Colonial Rule)\\n\\nConstitution\\tThe Constitution of India came into force on 26th January 1950.\\n\\nLegal System\\tThe Constitution of India is the fountain source of the legal system in the Country.\\n\\nExecutive Branch\\tThe President of India is the Head of the State, while the Prime Minister is the Head of the Government, and runs office with the support of the Council of Ministers who form the Cabinet Ministry.\\n\\nLegislative Branch\\tThe Indian Legislature comprises of the Lok Sabha (House of the People) and the Rajya Sabha (Council of States) forming both the Houses of the Parliament.\\n\\n\\nJudicial Branch\\tThe Supreme Court of India is the apex body of the Indian legal system, followed by other High Courts and subordinate Courts.\\n\\nFlag Description\\tThe National Flag is a horizontal tricolour of deep saffron (kesaria) at the top, white in the middle, and dark green at the bottom in equal proportion. At the centre of the white band is a navy blue wheel, which is a representation of the Ashoka Chakra at Sarnath.\\n\\nNational Days\\t26th January (Republic Day)\\n\\n15th August (Independence Day)\\n\\n2nd October (Gandhi Jayanti; Mahatma Gandhi's Birthday)\")],\n",
       " 'output_text': ' India is a diverse country in the northern hemisphere, with a rich culture and history. It has made progress since independence and is rich in natural resources, but faces hazards and environmental concerns. With a population of 1.2 billion, it has a tropical monsoon climate and is home to 22 recognized languages and a variety of religions. It gained independence in 1947 and is a sovereign socialist democratic republic with a parliamentary system of government. The President is the Head of State and the Prime Minister is the Head of Government. The national flag is a tricolor with the Ashoka Chakra in the center. Important national days include Republic Day, Independence Day, and Gandhi Jayanti.'}"
      ]
     },
     "execution_count": 9,
     "metadata": {},
     "output_type": "execute_result"
    }
   ],
   "source": [
    "chain = load_summarize_chain(llm, chain_type=\"map_reduce\", verbose=True)\n",
    "chain.invoke(docs)"
   ]
  },
  {
   "cell_type": "code",
   "execution_count": 10,
   "id": "2ff0c86b",
   "metadata": {},
   "outputs": [
    {
     "name": "stdout",
     "output_type": "stream",
     "text": [
      "\n",
      "\n",
      "\u001b[1m> Entering new MapReduceDocumentsChain chain...\u001b[0m\n",
      "\n",
      "\n",
      "\u001b[1m> Entering new LLMChain chain...\u001b[0m\n",
      "Prompt after formatting:\n",
      "\u001b[32;1m\u001b[1;3mWrite a concise summary of the following:\n",
      "\n",
      "\n",
      "\"India at a Glance\n",
      "Background\n",
      "India has a unique culture and is one of the oldest and greatest civilizations of the world. India has achieved all-round socio-economic progress since its Independence. India covers an area of 32,87,263 sq. km, extending from the snow-covered Himalayan heights to the tropical rain forests of the south. As the 7th largest country in the world, India stands apart from the rest of Asia, marked off as it is by mountains and the sea, which give the country a distinct geographical entity. Bounded by the Great Himalayas in the north, it stretches southwards and at the Tropic of Cancer, tapers off into the Indian Ocean between the Bay of Bengal on the east and the Arabian Sea on the west.\n",
      "\n",
      "Lying entirely in the northern hemisphere, the mainland extends between latitudes 8Â° 4' and 37Â° 6' north, longitudes 68Â° 7' and 97Â° 25' east and measures about 3,214 km from north to south between the extreme latitudes and about 2,933 km from east to west between the extreme longitudes. It has a land frontier of about 15,200 km. The total length of the coastline of the mainland, Lakshadweep Islands and Andaman & Nicobar Islands is 7,516.6 km.\n",
      "\n",
      "Geography\n",
      "Geographical information about India\n",
      "\n",
      "Particulars\tDescription\n",
      "\n",
      "Location\tThe Indian peninsula is separated from mainland Asia by the Himalayas. The Country is surrounded by the Bay of Bengal in the east, the Arabian Sea in the west, and the Indian Ocean to the south.\n",
      "\n",
      "Geographic Coordinates\tLying entirely in the Northern Hemisphere, the Country extends between 8Â° 4' and 37Â° 6' latitudes north of the Equator, and 68Â° 7' and 97Â° 25' longitudes east of it.\n",
      "\n",
      "Indian Standard Time\tGMT + 05:30\n",
      "\n",
      "Area\t3.3 Million sq. km\n",
      "\n",
      "Telephone Country Code\t+91\n",
      "\n",
      "Border Countries\tAfghanistan and Pakistan to the north-west; China, Bhutan and Nepal to the north; Myanmar to the far east; and Bangladesh to the east of West Bengal. Sri Lanka is separated from India by a narrow channel of sea, formed by Palk Strait and the Gulf of Mannar.\n",
      "\n",
      "Coastline\t7,516.6 km encompassing the mainland, Lakshadweep Islands, and the Andaman & Nicobar Islands.\n",
      "\n",
      "Climate\tThe climate of India can broadly be classified as a tropical monsoon one. The Indian Meteorological Department (IMD) designates four official seasons:\n",
      "\n",
      "Winter, from December to early April\n",
      "\n",
      "Summer or pre-monsoon, from April to June (April to July in north-western India)\n",
      "\n",
      "Monsoon or rainy, from June to September\n",
      "\n",
      "Post-monsoon, from October to December\n",
      "\n",
      "Terrain\tThe mainland comprises of four regions, namely the great mountain zone, plains of the Ganga and the Indus, the desert region, and the southern peninsula.\n",
      "\n",
      "Natural Resources\tCoal, iron ore, manganese ore, mica, bauxite, petroleum, titanium ore, chromite, natural gas, magnesite, limestone, arable land, dolomite, barytes, kaolin, gypsum, apatite, phosphorite, steatite, fluorite, etc.\n",
      "\n",
      "Natural Hazards\tMonsoon floods, flash floods, earthquakes, droughts, and landslides.\n",
      "\n",
      "Environment - Current Issues\tAir pollution control, energy conservation, solid waste management, oil and gas conservation, forest conservation, etc.\n",
      "\n",
      "Environment - International Agreements\tRio Declaration on environment and development, Cartagena Protocol on biosafety, Kyoto Protocol to the United Nations Framework Convention on climatic change, World Trade Agreement, Helsinki Protocol to LRTAP on the reduction of sulphur emissions of nitrogen oxides or their transboundary fluxes (Nox Protocol), and Geneva Protocol to LRTAP concerning the control of emissions of volatile organic compounds or their transboundary fluxes (VOCs Protocol).\n",
      "Geography - \n",
      "Note\tIndia occupies a major portion of the south Asian subcontinent.\n",
      "\n",
      "People\n",
      "Information about Indian Citizens\n",
      "Particulars\tDescription\n",
      "\n",
      "Population\tIndia's population, as on 1 March 2011 stood at 1,210.9 million (623.2 million males and 587.6 million females)\n",
      "\n",
      "Population Growth Rate\tThe average annual exponential growth rate stands at 1.64 per cent during 2001-2011\"\n",
      "\n",
      "\n",
      "CONCISE SUMMARY:\u001b[0m\n",
      "Prompt after formatting:\n",
      "\u001b[32;1m\u001b[1;3mWrite a concise summary of the following:\n",
      "\n",
      "\n",
      "\"Population Growth Rate\tThe average annual exponential growth rate stands at 1.64 per cent during 2001-2011\n",
      "\n",
      "Birth Rate\tThe Crude Birth rate was 20.1 during 2011-15\n",
      "\n",
      "Death Rate\tThe Crude Death rate was 7.2 during 2011-15\n",
      "\n",
      "Life Expectancy Rate\t65.8 years (Males); 68.1 years (Females) in the period 2006-2011\n",
      "\n",
      "Sex Ratio\t940 according to the 2011 census\n",
      "\n",
      "Nationality\tIndian\n",
      "\n",
      "Ethnic Groups\tAll the five major racial types - Australoid, Mongoloid, Europoid, Caucasian, and Negroid find representation among the people of India.\n",
      "\n",
      "Religions\tAccording to the 2001 census, out of the total population of 1,028 million in the Country, Hindus constituted the majority with 80.5%, Muslims came second at 13.4%, followed by Christians, Sikhs, Buddhists, Jains, and others.\n",
      "\n",
      "Languages\tThere are 22 different languages that have been recognised by the Constitution of India, of which Hindi is an Official Language. Article 343(3) empowered Parliament to provide by law for continued use of English for official purposes.\n",
      "\n",
      "Literacy\tAccording to the provisional results of the 2011 census, the literacy rate in the Country stands at 74.04 per cent, 82.14% for males and 65.46% for females.\n",
      "\n",
      "Government\n",
      "\n",
      "Information about Indian Government\n",
      "\n",
      "Particulars\tDescription\n",
      "\n",
      "Country Name\tRepublic of India; Bharat Ganrajya\n",
      "\n",
      "Government Type\tSovereign Socialist Democratic Republic with a Parliamentary system of Government.\n",
      "\n",
      "Capital\tNew Delhi\n",
      "\n",
      "Administrative Divisions\t28 States and 8 Union Territories.\n",
      "\n",
      "Independence\t15th August 1947 (From the British Colonial Rule)\n",
      "\n",
      "Constitution\tThe Constitution of India came into force on 26th January 1950.\n",
      "\n",
      "Legal System\tThe Constitution of India is the fountain source of the legal system in the Country.\n",
      "\n",
      "Executive Branch\tThe President of India is the Head of the State, while the Prime Minister is the Head of the Government, and runs office with the support of the Council of Ministers who form the Cabinet Ministry.\n",
      "\n",
      "Legislative Branch\tThe Indian Legislature comprises of the Lok Sabha (House of the People) and the Rajya Sabha (Council of States) forming both the Houses of the Parliament.\n",
      "\n",
      "\n",
      "Judicial Branch\tThe Supreme Court of India is the apex body of the Indian legal system, followed by other High Courts and subordinate Courts.\n",
      "\n",
      "Flag Description\tThe National Flag is a horizontal tricolour of deep saffron (kesaria) at the top, white in the middle, and dark green at the bottom in equal proportion. At the centre of the white band is a navy blue wheel, which is a representation of the Ashoka Chakra at Sarnath.\n",
      "\n",
      "National Days\t26th January (Republic Day)\n",
      "\n",
      "15th August (Independence Day)\n",
      "\n",
      "2nd October (Gandhi Jayanti; Mahatma Gandhi's Birthday)\"\n",
      "\n",
      "\n",
      "CONCISE SUMMARY:\u001b[0m\n",
      "\n",
      "\u001b[1m> Finished chain.\u001b[0m\n",
      "\n",
      "\n",
      "\u001b[1m> Entering new LLMChain chain...\u001b[0m\n",
      "Prompt after formatting:\n",
      "\u001b[32;1m\u001b[1;3mWrite a concise summary of the following:\n",
      "\n",
      "\n",
      "\" India is a diverse and ancient country, with a unique culture and continuous socio-economic progress since its independence. Its geographical features include the Himalayas, Bay of Bengal, Arabian Sea, and Indian Ocean. The country experiences a tropical monsoon climate and is divided into four regions. Its natural resources include coal, iron ore, and natural gas, and it faces natural hazards such as floods and earthquakes. There are several agreements in place for environmental conservation. As of 2011, India's population was 1.2 billion, with a growth rate of 1.64% per year.\n",
      "\n",
      " \n",
      "\n",
      "India has a population growth rate of 1.64%, a crude birth rate of 20.1, and a crude death rate of 7.2. Life expectancy for males is 65.8 years and for females is 68.1 years. The population is predominantly Hindu (80.5%), followed by Muslims (13.4%), Christians, Sikhs, Buddhists, Jains, and others. There are 22 recognized languages, with Hindi as the official language. The literacy rate is 74.04%, with males having a higher rate than females. India is a sovereign socialist democratic republic with a parliamentary system of government. The executive branch is headed by the President and the legislative branch consists of the Lok Sabha and the Rajya Sabha. The Supreme Court is the highest judicial body. The national flag is a tricolour with a navy blue wheel in the center, representing the Ashoka Chakra. National days include Republic Day, Independence Day, and Gandhi Jayanti. \"\n",
      "\n",
      "\n",
      "CONCISE SUMMARY:\u001b[0m\n",
      "\n",
      "\u001b[1m> Finished chain.\u001b[0m\n",
      "\n",
      "\u001b[1m> Finished chain.\u001b[0m\n"
     ]
    },
    {
     "data": {
      "text/plain": [
       "' \\nIndia is a diverse and ancient country with a unique culture and continuous socio-economic progress. It is geographically varied with features like the Himalayas, Bay of Bengal, Arabian Sea, and Indian Ocean and a tropical monsoon climate. The country has abundant natural resources but faces natural hazards such as floods and earthquakes. India is committed to environmental conservation through various agreements. It has a population of 1.2 billion, predominantly Hindu, with a literacy rate of 74.04%. It is a democratic republic with a parliamentary system of government, headed by the President, and the national flag is a tricolor with a navy blue wheel. Important national days include Republic Day, Independence Day, and Gandhi Jayanti.'"
      ]
     },
     "execution_count": 10,
     "metadata": {},
     "output_type": "execute_result"
    }
   ],
   "source": [
    "print(chain.invoke(docs)[\"output_text\"])"
   ]
  },
  {
   "cell_type": "markdown",
   "id": "3593072c",
   "metadata": {},
   "source": [
    "## HTTP Requests"
   ]
  },
  {
   "cell_type": "markdown",
   "id": "320a57a5",
   "metadata": {},
   "source": [
    "### LLMRequestsChain"
   ]
  },
  {
   "cell_type": "code",
   "execution_count": 14,
   "id": "2a29e1b4",
   "metadata": {},
   "outputs": [],
   "source": [
    "from langchain.chains import LLMRequestsChain, LLMChain"
   ]
  },
  {
   "cell_type": "code",
   "execution_count": 15,
   "id": "e1f23480",
   "metadata": {},
   "outputs": [],
   "source": [
    "template = \"\"\"\n",
    "Extract the answer to the question '{query}' or say \"not found\" if the information is not available.\n",
    "{requests_result}\n",
    "\"\"\"\n",
    "\n",
    "PROMPT = PromptTemplate(\n",
    "    input_variables=[\"query\", \"requests_result\"],\n",
    "    template=template,\n",
    ")"
   ]
  },
  {
   "cell_type": "code",
   "execution_count": 16,
   "id": "a5dc9937",
   "metadata": {},
   "outputs": [],
   "source": [
    "llm=OpenAI()"
   ]
  },
  {
   "cell_type": "code",
   "execution_count": 17,
   "id": "dd539d4f",
   "metadata": {},
   "outputs": [],
   "source": [
    "chain = LLMRequestsChain(llm_chain=LLMChain(llm=llm, prompt=PROMPT))"
   ]
  },
  {
   "cell_type": "markdown",
   "id": "cb3fbc27",
   "metadata": {},
   "source": [
    "<font color='green'>\n",
    "Preparing the question & inputs to the http request<font>"
   ]
  },
  {
   "cell_type": "code",
   "execution_count": 18,
   "id": "64893b39",
   "metadata": {},
   "outputs": [],
   "source": [
    "question = \"What is the capital of india?\"\n",
    "inputs = {\n",
    "    \"query\": question,\n",
    "    \"url\": \"https://www.google.com/search?q=\" + question.replace(\" \", \"+\"),\n",
    "}"
   ]
  },
  {
   "cell_type": "code",
   "execution_count": 19,
   "id": "779f0411",
   "metadata": {},
   "outputs": [
    {
     "data": {
      "text/plain": [
       "{'query': 'What is the capital of india?',\n",
       " 'url': 'https://www.google.com/search?q=What+is+the+capital+of+india?',\n",
       " 'output': '\\nNew Delhi'}"
      ]
     },
     "execution_count": 19,
     "metadata": {},
     "output_type": "execute_result"
    }
   ],
   "source": [
    "chain.invoke(inputs)"
   ]
  },
  {
   "cell_type": "markdown",
   "id": "14c980e2",
   "metadata": {},
   "source": [
    "<font color='green'>\n",
    "Let's look at the internal functioning<font>"
   ]
  },
  {
   "cell_type": "code",
   "execution_count": 20,
   "id": "b974d187",
   "metadata": {},
   "outputs": [
    {
     "name": "stdout",
     "output_type": "stream",
     "text": [
      "    def _call(\n",
      "        self,\n",
      "        inputs: Dict[str, Any],\n",
      "        run_manager: Optional[CallbackManagerForChainRun] = None,\n",
      "    ) -> Dict[str, Any]:\n",
      "        from bs4 import BeautifulSoup\n",
      "\n",
      "        _run_manager = run_manager or CallbackManagerForChainRun.get_noop_manager()\n",
      "        # Other keys are assumed to be needed for LLM prediction\n",
      "        other_keys = {k: v for k, v in inputs.items() if k != self.input_key}\n",
      "        url = inputs[self.input_key]\n",
      "        res = self.requests_wrapper.get(url)\n",
      "        # extract the text from the html\n",
      "        soup = BeautifulSoup(res, \"html.parser\")\n",
      "        other_keys[self.requests_key] = soup.get_text()[: self.text_length]\n",
      "        result = self.llm_chain.predict(\n",
      "            callbacks=_run_manager.get_child(), **other_keys\n",
      "        )\n",
      "        return {self.output_key: result}\n",
      "\n"
     ]
    }
   ],
   "source": [
    "import inspect\n",
    "print(inspect.getsource(chain._call))"
   ]
  },
  {
   "cell_type": "code",
   "execution_count": null,
   "id": "81acaf69",
   "metadata": {},
   "outputs": [],
   "source": []
  }
 ],
 "metadata": {
  "kernelspec": {
   "display_name": "Python 3 (ipykernel)",
   "language": "python",
   "name": "python3"
  },
  "language_info": {
   "codemirror_mode": {
    "name": "ipython",
    "version": 3
   },
   "file_extension": ".py",
   "mimetype": "text/x-python",
   "name": "python",
   "nbconvert_exporter": "python",
   "pygments_lexer": "ipython3",
   "version": "3.11.6"
  }
 },
 "nbformat": 4,
 "nbformat_minor": 5
}
